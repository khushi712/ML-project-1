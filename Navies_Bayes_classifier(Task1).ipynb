{
 "cells": [
  {
   "cell_type": "code",
   "execution_count": 1,
   "id": "9e9d9367-3baf-40b6-8d7a-c7f27699acf7",
   "metadata": {},
   "outputs": [],
   "source": [
    "import pandas as pd\n",
    "import math\n"
   ]
  },
  {
   "cell_type": "code",
   "execution_count": 3,
   "id": "50dec322-c052-43df-ad4b-70fb1f2f081e",
   "metadata": {},
   "outputs": [],
   "source": [
    "class NaiveBayes:\n",
    "    def __init__(self):\n",
    "        # Initialize parameters for storing probabilities\n",
    "        self.class_probs = {}\n",
    "        self.feature_probs = {}\n",
    "    "
   ]
  },
  {
   "cell_type": "code",
   "execution_count": 5,
   "id": "0856da29-98d8-465c-86e6-5d0850fce177",
   "metadata": {},
   "outputs": [],
   "source": [
    "    def fit(self, X, y):\n",
    "        # X: DataFrame of features\n",
    "        # y: Target labels\n",
    "        n_samples = X.shape[0]\n",
    "        # Compute class probabilities\n",
    "        for class_value in y.unique():\n",
    "            X_class = X[y == class_value]\n",
    "            self.class_probs[class_value] = len(X_class) / n_samples\n",
    "            self.feature_probs[class_value] = {}\n",
    "            for col in X.columns:\n",
    "                if X[col].dtype == 'object':\n",
    "                    # Handle discrete features\n",
    "                    self.feature_probs[class_value][col] = X_class[col].value_counts(normalize=True).to_dict()\n",
    "                else:\n",
    "                    # Handle continuous features\n",
    "                    self.feature_probs[class_value][col] = {\n",
    "                        'mean': X_class[col].mean(),\n",
    "                        'var': X_class[col].var()\n",
    "                    }\n"
   ]
  },
  {
   "cell_type": "code",
   "execution_count": 7,
   "id": "d2f1a2dc-eb56-4dba-966c-701334f567cb",
   "metadata": {},
   "outputs": [],
   "source": [
    "def predict_probability(self, X):\n",
    "        probabilities = []\n",
    "        for index, row in X.iterrows():\n",
    "            class_probs = {}\n",
    "            for class_value in self.class_probs:\n",
    "                class_prob = math.log(self.class_probs[class_value])\n",
    "                for col in X.columns:\n",
    "                    if X[col].dtype == 'object':\n",
    "                        feature_val = row[col]\n",
    "                        if feature_val in self.feature_probs[class_value][col]:\n",
    "                            class_prob += math.log(self.feature_probs[class_value][col][feature_val])\n",
    "                    else:\n",
    "                        # Gaussian for continuous features\n",
    "                        mean = self.feature_probs[class_value][col]['mean']\n",
    "                        var = self.feature_probs[class_value][col]['var']\n",
    "                        gaussian = (1 / math.sqrt(2 * math.pi * var)) * math.exp(-(row[col] - mean) ** 2 / (2 * var))\n",
    "                        class_prob += math.log(gaussian)\n",
    "                class_probs[class_value] = class_prob\n",
    "            probabilities.append(max(class_probs, key=class_probs.get))\n",
    "        return probabilities"
   ]
  },
  {
   "cell_type": "code",
   "execution_count": 9,
   "id": "18771793-e79b-4257-b092-bc220d125b81",
   "metadata": {},
   "outputs": [],
   "source": [
    "def evaluate_on_data(self, X, y_true):\n",
    "        y_pred = self.predict_probability(X)\n",
    "        accuracy = sum(y_pred == y_true) / len(y_true)\n",
    "        return accuracy\n"
   ]
  },
  {
   "cell_type": "code",
   "execution_count": null,
   "id": "57b26dc1-611d-400f-b6a1-dacd5fa133d7",
   "metadata": {},
   "outputs": [],
   "source": []
  }
 ],
 "metadata": {
  "kernelspec": {
   "display_name": "Python 3 (ipykernel)",
   "language": "python",
   "name": "python3"
  },
  "language_info": {
   "codemirror_mode": {
    "name": "ipython",
    "version": 3
   },
   "file_extension": ".py",
   "mimetype": "text/x-python",
   "name": "python",
   "nbconvert_exporter": "python",
   "pygments_lexer": "ipython3",
   "version": "3.12.4"
  }
 },
 "nbformat": 4,
 "nbformat_minor": 5
}
